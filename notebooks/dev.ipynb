{
 "cells": [
  {
   "cell_type": "code",
   "execution_count": 1,
   "metadata": {},
   "outputs": [],
   "source": [
    "from experiment.pipeline.resources._document_parser import DocumentParserClient"
   ]
  },
  {
   "cell_type": "code",
   "execution_count": 9,
   "metadata": {},
   "outputs": [
    {
     "name": "stdout",
     "output_type": "stream",
     "text": [
      "Prompt 1 \n",
      "Prompt \n",
      "More and more people use computers, but not everyone agrees that this benefits society. Those\n",
      "who support advances in technology believe that computers have a positive effect on people.\n",
      "They teach hand-eye coordination, give people the ability to learn about faraway places and\n",
      "people, and even allow people to talk online with other people. Others have different ideas.\n",
      "Some experts are concerned that people are spending too much time on their computers and\n",
      "less time exercising, enjoying nature, and interacting with family and friends.\n"
     ]
    }
   ],
   "source": [
    "import re\n",
    "\n",
    "\n",
    "text = \"Prompt 1 \\n \\nPrompt \\n \\nMore and more people use computers, but not everyone agrees that this benefits society. Those\\n \\n \\n \\n \\n \\n \\n \\n \\n \\n \\n \\n \\n \\n \\n \\nwho support advances in technology believe that computers have a positive effect on people.\\n \\n \\n \\n \\n \\n \\n \\n \\n  \\n \\n \\n \\n \\nThey teach hand-eye coordination, give people the ability to learn about faraway places and\\n \\n \\n \\n \\n \\n \\n \\n \\n \\n \\n \\n \\n \\n \\npeople, and even allow people to talk online with other people. Others have different ideas.\\n \\n \\n \\n \\n \\n \\n \\n \\n \\n \\n \\n \\n \\n \\n \\nSome experts are concerned that people are spending too much time on their computers and\\n \\n \\n \\n \\n \\n \\n \\n \\n \\n \\n \\n \\n \\n \\n \\nless time exercising, enjoying nature, and interacting with family and friends.\"\n",
    "# write regex to reduce multiple \\n with spaces in between to a single \\n\n",
    "text = re.sub(r'\\n\\s+\\n', '\\n', text)\n",
    "print(text)"
   ]
  },
  {
   "cell_type": "code",
   "execution_count": 2,
   "metadata": {},
   "outputs": [
    {
     "name": "stdout",
     "output_type": "stream",
     "text": [
      "32\n",
      "[[0.97463185]]\n"
     ]
    }
   ],
   "source": [
    "import numpy as np\n",
    "from sklearn.metrics.pairwise import cosine_similarity\n",
    "\n",
    "a = np.array([1, 2, 3])\n",
    "b = np.array([4, 5, 6])\n",
    "print(np.dot(a, b))\n",
    "print(cosine_similarity([a], [b]))"
   ]
  },
  {
   "cell_type": "code",
   "execution_count": null,
   "metadata": {},
   "outputs": [],
   "source": []
  }
 ],
 "metadata": {
  "kernelspec": {
   "display_name": ".venv",
   "language": "python",
   "name": ".venv"
  },
  "language_info": {
   "codemirror_mode": {
    "name": "ipython",
    "version": 3
   },
   "file_extension": ".py",
   "mimetype": "text/x-python",
   "name": "python",
   "nbconvert_exporter": "python",
   "pygments_lexer": "ipython3",
   "version": "3.11.5"
  }
 },
 "nbformat": 4,
 "nbformat_minor": 2
}
